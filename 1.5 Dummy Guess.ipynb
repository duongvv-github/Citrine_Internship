{
 "cells": [
  {
   "cell_type": "markdown",
   "metadata": {},
   "source": [
    "This is a dummy regression function. It doesn't actually perform any meaningful computations, just to compare values to the mulitple linear regression and the random forest regression. "
   ]
  },
  {
   "cell_type": "code",
   "execution_count": 1,
   "metadata": {
    "collapsed": true
   },
   "outputs": [],
   "source": [
    "from sklearn.dummy import DummyRegressor\n",
    "from sklearn.model_selection import train_test_split\n",
    "from sklearn import model_selection\n",
    "loocv = model_selection.LeaveOneOut()\n",
    "\n",
    "%store -r magnetic_data_ohe"
   ]
  },
  {
   "cell_type": "code",
   "execution_count": 2,
   "metadata": {
    "collapsed": true
   },
   "outputs": [],
   "source": [
    "dummy_value = DummyRegressor(strategy='mean') # Regression just returns the mean of the data set"
   ]
  },
  {
   "cell_type": "code",
   "execution_count": 3,
   "metadata": {
    "collapsed": true
   },
   "outputs": [],
   "source": [
    "# Split X and Y data along with train/test sets\n",
    "estimator = magnetic_data_ohe.loc[:, magnetic_data_ohe.columns != 'Magnetic Moment']\n",
    "predictor = magnetic_data_ohe.loc[:, magnetic_data_ohe.columns == 'Magnetic Moment']\n",
    "\n",
    "X_train, X_test, y_train, y_test = train_test_split(estimator, predictor, test_size=0.25, random_state=24601)"
   ]
  },
  {
   "cell_type": "code",
   "execution_count": 4,
   "metadata": {},
   "outputs": [
    {
     "data": {
      "text/plain": [
       "DummyRegressor(constant=None, quantile=None, strategy='mean')"
      ]
     },
     "execution_count": 4,
     "metadata": {},
     "output_type": "execute_result"
    }
   ],
   "source": [
    "dummy_value.fit(X_train, y_train) # Fit the model"
   ]
  },
  {
   "cell_type": "code",
   "execution_count": 5,
   "metadata": {
    "scrolled": true
   },
   "outputs": [
    {
     "data": {
      "text/plain": [
       "-0.073929870747700077"
      ]
     },
     "execution_count": 5,
     "metadata": {},
     "output_type": "execute_result"
    }
   ],
   "source": [
    "# R-squared score\n",
    "dummy_value.score(X_test, y_test)"
   ]
  },
  {
   "cell_type": "code",
   "execution_count": 6,
   "metadata": {
    "collapsed": true
   },
   "outputs": [],
   "source": [
    "cv_score = model_selection.cross_val_score(dummy_value, X_train, y_train, cv = loocv, scoring = 'neg_mean_squared_error')"
   ]
  },
  {
   "cell_type": "code",
   "execution_count": 7,
   "metadata": {},
   "outputs": [
    {
     "name": "stdout",
     "output_type": "stream",
     "text": [
      "Leave-one-out cross validation mean: 3.36426280716\n",
      "Leave-one-out cross validation variance: 8.57841118213\n"
     ]
    }
   ],
   "source": [
    "print('Leave-one-out cross validation mean:', -cv_score.mean())\n",
    "print('Leave-one-out cross validation variance:', cv_score.var())"
   ]
  },
  {
   "cell_type": "code",
   "execution_count": null,
   "metadata": {
    "collapsed": true
   },
   "outputs": [],
   "source": []
  }
 ],
 "metadata": {
  "kernelspec": {
   "display_name": "Python 3",
   "language": "python",
   "name": "python3"
  },
  "language_info": {
   "codemirror_mode": {
    "name": "ipython",
    "version": 3
   },
   "file_extension": ".py",
   "mimetype": "text/x-python",
   "name": "python",
   "nbconvert_exporter": "python",
   "pygments_lexer": "ipython3",
   "version": "3.6.3"
  }
 },
 "nbformat": 4,
 "nbformat_minor": 2
}
