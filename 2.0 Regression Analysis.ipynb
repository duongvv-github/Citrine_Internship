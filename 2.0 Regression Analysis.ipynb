{
 "cells": [
  {
   "cell_type": "code",
   "execution_count": 1,
   "metadata": {
    "collapsed": true
   },
   "outputs": [],
   "source": [
    "# Import Packages\n",
    "import pandas as pd\n",
    "import numpy as np\n",
    "import matplotlib.pyplot as plt\n",
    "%matplotlib inline\n",
    "\n",
    "%store -r magnetic_data_ohe\n",
    "\n",
    "from sklearn.linear_model import LinearRegression\n",
    "from sklearn import model_selection\n",
    "from sklearn import metrics\n",
    "\n",
    "\n",
    "linreg = LinearRegression()"
   ]
  },
  {
   "cell_type": "code",
   "execution_count": 2,
   "metadata": {
    "collapsed": true
   },
   "outputs": [],
   "source": [
    "# Format estimator and Target data\n",
    "estimator = magnetic_data_ohe.loc[:, magnetic_data_ohe.columns != 'Magnetic Moment']\n",
    "predictor = magnetic_data_ohe.loc[:, magnetic_data_ohe.columns == 'Magnetic Moment']"
   ]
  },
  {
   "cell_type": "code",
   "execution_count": 3,
   "metadata": {
    "collapsed": true
   },
   "outputs": [],
   "source": [
    "X_train, X_test, y_train, y_test = model_selection.train_test_split(Input, Output, test_size=0.25, random_state=123456)\n",
    "#y_train = np.ravel(y_train); y_test = np.ravel(y_test);\n",
    "#X_train = np.ravel(X_train); X_test = np.ravel(X_test);"
   ]
  },
  {
   "cell_type": "markdown",
   "metadata": {},
   "source": [
    "Let's try predicting the magnetic moment of a molecule using the full dataset and using the simplest linear model with a leave-one-out cross validation method"
   ]
  },
  {
   "cell_type": "code",
   "execution_count": 4,
   "metadata": {
    "collapsed": true
   },
   "outputs": [],
   "source": [
    "model = linreg.fit(X_train, y_train)"
   ]
  },
  {
   "cell_type": "code",
   "execution_count": 5,
   "metadata": {
    "scrolled": true
   },
   "outputs": [
    {
     "data": {
      "text/plain": [
       "0.6541017162158651"
      ]
     },
     "execution_count": 5,
     "metadata": {},
     "output_type": "execute_result"
    }
   ],
   "source": [
    "model.score(X_train, y_train) # R^2 value"
   ]
  },
  {
   "cell_type": "code",
   "execution_count": 6,
   "metadata": {
    "scrolled": true
   },
   "outputs": [
    {
     "name": "stdout",
     "output_type": "stream",
     "text": [
      "The coefficient for U Level is 0.04941596449581902\n",
      "The coefficient for Total D Electrons is -0.15145445687738782\n",
      "The coefficient for D Spin State is 2.7439512197125953\n",
      "The coefficient for Molecule_F16MPc is -0.15970940870367856\n",
      "The coefficient for Molecule_MPc is 0.15970940870367836\n",
      "The coefficient for Calc Type_metal is -0.24758808232839177\n",
      "The coefficient for Calc Type_total is 0.2475880823283918\n"
     ]
    }
   ],
   "source": [
    "for idx, col_name in enumerate(X_train.columns):\n",
    "    print(\"The coefficient for {} is {}\".format(col_name, model.coef_[0][idx]))"
   ]
  },
  {
   "cell_type": "code",
   "execution_count": 7,
   "metadata": {
    "collapsed": true,
    "scrolled": true
   },
   "outputs": [],
   "source": [
    "# Generate score based on loocv -- but is a bit useless \n",
    "#cross_val_score = model_selection.cross_val_score(linreg, X_train, y_train, cv = loocv)\n",
    "#result_score # outputs array of errors"
   ]
  },
  {
   "cell_type": "code",
   "execution_count": 8,
   "metadata": {
    "collapsed": true
   },
   "outputs": [],
   "source": [
    "#cross_val_predict = model_selection.cross_val_predict(linreg, X_train, y_train, cv = loocv)\n",
    "#result_predict # outputs array of errors"
   ]
  },
  {
   "cell_type": "code",
   "execution_count": 9,
   "metadata": {
    "collapsed": true,
    "scrolled": false
   },
   "outputs": [],
   "source": [
    "#print(\"Accuracy: %.3f%% (+/- %.3f%%)\" % (results.mean(), results.std()))"
   ]
  },
  {
   "cell_type": "code",
   "execution_count": 14,
   "metadata": {
    "collapsed": true
   },
   "outputs": [],
   "source": [
    "#accuracy = metrics.r2_score(y_train, cross_val_predict)\n",
    "#accuracy\n",
    "# Why isn't this the same as the model.score value generated earlier?"
   ]
  },
  {
   "cell_type": "code",
   "execution_count": null,
   "metadata": {
    "collapsed": true
   },
   "outputs": [],
   "source": []
  },
  {
   "cell_type": "markdown",
   "metadata": {},
   "source": [
    "predictions = model_selection.cross_val_predict(linreg, X_data, Y_data, cv = loocv )\n",
    "fig, ax = plt.subplots()\n",
    "\n",
    "#plt.scatter(Y_data, predictions)\n",
    "ax.scatter(Y_data, predictions)\n",
    "ax.plot([Y_data.min(), Y_data.max()], [Y_data.min(), Y_data.max()], 'k--', lw=6)\n",
    "\n",
    "ax.set_xlabel('Measured')\n",
    "ax.set_ylabel('Predicted')"
   ]
  },
  {
   "cell_type": "code",
   "execution_count": null,
   "metadata": {
    "collapsed": true
   },
   "outputs": [],
   "source": [
    "#loocv.get_n_splits(X_data)"
   ]
  },
  {
   "cell_type": "code",
   "execution_count": null,
   "metadata": {
    "collapsed": true,
    "scrolled": true
   },
   "outputs": [],
   "source": [
    "plt.scatter(Y_data, predictions)"
   ]
  },
  {
   "cell_type": "code",
   "execution_count": null,
   "metadata": {
    "collapsed": true,
    "scrolled": false
   },
   "outputs": [],
   "source": [
    "for idx, col_name in enumerate(X_data.columns):\n",
    "    print(\"The coefficient for {} is {}\".format(col_name, linreg.coef_[0][idx]))"
   ]
  },
  {
   "cell_type": "code",
   "execution_count": null,
   "metadata": {
    "collapsed": true
   },
   "outputs": [],
   "source": []
  },
  {
   "cell_type": "code",
   "execution_count": null,
   "metadata": {
    "collapsed": true
   },
   "outputs": [],
   "source": []
  },
  {
   "cell_type": "code",
   "execution_count": null,
   "metadata": {
    "collapsed": true
   },
   "outputs": [],
   "source": []
  },
  {
   "cell_type": "code",
   "execution_count": null,
   "metadata": {
    "collapsed": true
   },
   "outputs": [],
   "source": []
  },
  {
   "cell_type": "code",
   "execution_count": null,
   "metadata": {
    "collapsed": true
   },
   "outputs": [],
   "source": []
  },
  {
   "cell_type": "code",
   "execution_count": null,
   "metadata": {
    "collapsed": true
   },
   "outputs": [],
   "source": [
    "# Would be nice to get this in one line\n",
    "'''\n",
    "train_x_dElectrons = magnetic_data_ohe.loc[:, magnetic_data_ohe.columns != 'Magnetic Moment']\n",
    "train_x_dElectrons = train_x_dElectrons.loc[:, train_x_dElectrons.columns != 'D Spin State']\n",
    "train_x_dElectrons\n",
    "'''"
   ]
  },
  {
   "cell_type": "code",
   "execution_count": null,
   "metadata": {
    "collapsed": true,
    "scrolled": true
   },
   "outputs": [],
   "source": [
    "'''\n",
    "linreg.fit(train_x_dElectrons, train_y)\n",
    "for idx, col_name in enumerate(train_x_dElectrons.columns):\n",
    "    print(\"The coefficient for {} is {}\".format(col_name, linreg.coef_[0][idx]))\n",
    "    '''"
   ]
  },
  {
   "cell_type": "code",
   "execution_count": null,
   "metadata": {
    "collapsed": true
   },
   "outputs": [],
   "source": [
    "#linreg.score(train_x_dElectrons, train_y)"
   ]
  },
  {
   "cell_type": "code",
   "execution_count": null,
   "metadata": {
    "collapsed": true
   },
   "outputs": [],
   "source": [
    "# Would be nice to get this in one line\n",
    "#train_x_dSpin = magnetic_data_ohe.loc[:, magnetic_data_ohe.columns != 'Magnetic Moment']\n",
    "#train_x_dSpin = train_x_dSpin.loc[:, train_x_dSpin.columns != 'Total D Electrons']\n",
    "#train_x_dSpin"
   ]
  },
  {
   "cell_type": "code",
   "execution_count": null,
   "metadata": {
    "collapsed": true,
    "scrolled": true
   },
   "outputs": [],
   "source": [
    "#linreg.fit(train_x_dSpin, train_y)\n",
    "#for idx, col_name in enumerate(train_x_dSpin.columns):\n",
    "#    print(\"The coefficient for {} is {}\".format(col_name, linreg.coef_[0][idx]))"
   ]
  },
  {
   "cell_type": "code",
   "execution_count": null,
   "metadata": {
    "collapsed": true
   },
   "outputs": [],
   "source": [
    "#linreg.score(train_x_dSpin, train_y)"
   ]
  },
  {
   "cell_type": "code",
   "execution_count": null,
   "metadata": {
    "collapsed": true
   },
   "outputs": [],
   "source": [
    "#from sklearn.model_selection import LeaveOneOut\n",
    "#from sklearn.model_selection import StratifiedKFold"
   ]
  },
  {
   "cell_type": "code",
   "execution_count": 18,
   "metadata": {
    "collapsed": true
   },
   "outputs": [],
   "source": [
    "test_model = linreg.fit(X_test, y_test)"
   ]
  },
  {
   "cell_type": "code",
   "execution_count": 19,
   "metadata": {},
   "outputs": [
    {
     "data": {
      "text/plain": [
       "0.67807537670181905"
      ]
     },
     "execution_count": 19,
     "metadata": {},
     "output_type": "execute_result"
    }
   ],
   "source": [
    "test_model.score(X_test, y_test) # R^2 value"
   ]
  },
  {
   "cell_type": "code",
   "execution_count": 20,
   "metadata": {},
   "outputs": [
    {
     "name": "stdout",
     "output_type": "stream",
     "text": [
      "The coefficient for U Level is 0.10651547543349808\n",
      "The coefficient for Total D Electrons is -0.06747083048558179\n",
      "The coefficient for D Spin State is 2.690818819792914\n",
      "The coefficient for Molecule_F16MPc is -0.3091661039925753\n",
      "The coefficient for Molecule_MPc is 0.30916610399257666\n",
      "The coefficient for Calc Type_metal is -0.3116633743947003\n",
      "The coefficient for Calc Type_total is 0.3116633743947012\n"
     ]
    }
   ],
   "source": [
    "for idx, col_name in enumerate(X_train.columns):\n",
    "    print(\"The coefficient for {} is {}\".format(col_name, test_model.coef_[0][idx]))"
   ]
  },
  {
   "cell_type": "code",
   "execution_count": 15,
   "metadata": {
    "collapsed": true
   },
   "outputs": [],
   "source": [
    "final_model = linreg.fit(Input, Output)"
   ]
  },
  {
   "cell_type": "code",
   "execution_count": 16,
   "metadata": {},
   "outputs": [
    {
     "data": {
      "text/plain": [
       "0.65235457622778847"
      ]
     },
     "execution_count": 16,
     "metadata": {},
     "output_type": "execute_result"
    }
   ],
   "source": [
    "final_model.score(Input, Output) # R^2 value"
   ]
  },
  {
   "cell_type": "code",
   "execution_count": 17,
   "metadata": {},
   "outputs": [
    {
     "name": "stdout",
     "output_type": "stream",
     "text": [
      "The coefficient for U Level is 0.06107954545454544\n",
      "The coefficient for Total D Electrons is -0.12792988954516638\n",
      "The coefficient for D Spin State is 2.6960806887576334\n",
      "The coefficient for Molecule_F16MPc is -0.21287878787878783\n",
      "The coefficient for Molecule_MPc is 0.21287878787878786\n",
      "The coefficient for Calc Type_metal is -0.28257575757575765\n",
      "The coefficient for Calc Type_total is 0.28257575757575765\n"
     ]
    }
   ],
   "source": [
    "for idx, col_name in enumerate(X_train.columns):\n",
    "    print(\"The coefficient for {} is {}\".format(col_name, final_model.coef_[0][idx]))"
   ]
  },
  {
   "cell_type": "code",
   "execution_count": null,
   "metadata": {
    "collapsed": true
   },
   "outputs": [],
   "source": []
  }
 ],
 "metadata": {
  "kernelspec": {
   "display_name": "Python 3",
   "language": "python",
   "name": "python3"
  },
  "language_info": {
   "codemirror_mode": {
    "name": "ipython",
    "version": 3
   },
   "file_extension": ".py",
   "mimetype": "text/x-python",
   "name": "python",
   "nbconvert_exporter": "python",
   "pygments_lexer": "ipython3",
   "version": "3.6.3"
  }
 },
 "nbformat": 4,
 "nbformat_minor": 2
}
