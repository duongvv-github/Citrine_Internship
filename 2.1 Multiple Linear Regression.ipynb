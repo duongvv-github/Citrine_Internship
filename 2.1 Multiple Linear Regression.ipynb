{
 "cells": [
  {
   "cell_type": "code",
   "execution_count": null,
   "metadata": {
    "collapsed": true
   },
   "outputs": [],
   "source": [
    "# Import Packages\n",
    "import pandas as pd\n",
    "import numpy as np\n",
    "import matplotlib.pyplot as plt\n",
    "%matplotlib inline\n",
    "\n",
    "%store -r magnetic_data_ohe\n",
    "\n",
    "from sklearn.linear_model import LinearRegression\n",
    "from sklearn import model_selection\n",
    "from sklearn import metrics\n",
    "\n",
    "\n",
    "linreg = LinearRegression()\n",
    "loocv = model_selection.LeaveOneOut()"
   ]
  },
  {
   "cell_type": "code",
   "execution_count": null,
   "metadata": {
    "collapsed": true
   },
   "outputs": [],
   "source": [
    "# Format estimator and Target data\n",
    "estimator = magnetic_data_ohe.loc[:, magnetic_data_ohe.columns != 'Magnetic Moment']\n",
    "predictor = magnetic_data_ohe.loc[:, magnetic_data_ohe.columns == 'Magnetic Moment']\n",
    "\n",
    "X_train, X_test, y_train, y_test = model_selection.train_test_split(estimator, predictor, test_size=0.25, random_state=123456)"
   ]
  },
  {
   "cell_type": "code",
   "execution_count": null,
   "metadata": {
    "collapsed": true
   },
   "outputs": [],
   "source": [
    "model = linreg.fit(X_train, y_train)"
   ]
  },
  {
   "cell_type": "code",
   "execution_count": null,
   "metadata": {
    "collapsed": true
   },
   "outputs": [],
   "source": [
    "model.score(X_train, y_train) # R^2 value"
   ]
  },
  {
   "cell_type": "code",
   "execution_count": null,
   "metadata": {
    "collapsed": true
   },
   "outputs": [],
   "source": [
    "#for idx, col_name in enumerate(X_train.columns):\n",
    "#    print(\"The coefficient for {} is {}\".format(col_name, model.coef_[0][idx]))"
   ]
  },
  {
   "cell_type": "code",
   "execution_count": null,
   "metadata": {
    "collapsed": true
   },
   "outputs": [],
   "source": [
    "X_test.shape"
   ]
  },
  {
   "cell_type": "code",
   "execution_count": null,
   "metadata": {
    "collapsed": true
   },
   "outputs": [],
   "source": [
    "X_test.shape"
   ]
  },
  {
   "cell_type": "code",
   "execution_count": null,
   "metadata": {
    "collapsed": true
   },
   "outputs": [],
   "source": []
  },
  {
   "cell_type": "code",
   "execution_count": null,
   "metadata": {
    "collapsed": true
   },
   "outputs": [],
   "source": []
  },
  {
   "cell_type": "code",
   "execution_count": null,
   "metadata": {
    "collapsed": true
   },
   "outputs": [],
   "source": []
  },
  {
   "cell_type": "code",
   "execution_count": null,
   "metadata": {
    "collapsed": true
   },
   "outputs": [],
   "source": [
    "test_model = linreg.fit(X_test, y_test)"
   ]
  },
  {
   "cell_type": "code",
   "execution_count": null,
   "metadata": {
    "collapsed": true
   },
   "outputs": [],
   "source": [
    "test_model.score(X_test, y_test) # R^2 valuefor idx, col_name in enumerate(X_train.columns):\n",
    "    print(\"The coefficient for {} is {}\".format(col_name, test_model.coef_[0][idx]))"
   ]
  },
  {
   "cell_type": "code",
   "execution_count": null,
   "metadata": {
    "collapsed": true
   },
   "outputs": [],
   "source": []
  },
  {
   "cell_type": "code",
   "execution_count": null,
   "metadata": {
    "collapsed": true
   },
   "outputs": [],
   "source": [
    "X_tes"
   ]
  },
  {
   "cell_type": "code",
   "execution_count": 4,
   "metadata": {
    "collapsed": true
   },
   "outputs": [],
   "source": [
    "final_model = linreg.fit(Input, Output)"
   ]
  },
  {
   "cell_type": "code",
   "execution_count": 5,
   "metadata": {},
   "outputs": [
    {
     "data": {
      "text/plain": [
       "0.65235457622778847"
      ]
     },
     "execution_count": 5,
     "metadata": {},
     "output_type": "execute_result"
    }
   ],
   "source": [
    "final_model.score(Input, Output) # R^2 value"
   ]
  },
  {
   "cell_type": "code",
   "execution_count": 28,
   "metadata": {},
   "outputs": [
    {
     "data": {
      "text/plain": [
       "{'copy_X': True, 'fit_intercept': True, 'n_jobs': 1, 'normalize': False}"
      ]
     },
     "execution_count": 28,
     "metadata": {},
     "output_type": "execute_result"
    }
   ],
   "source": [
    "final_model.get_params(True)"
   ]
  },
  {
   "cell_type": "code",
   "execution_count": 29,
   "metadata": {},
   "outputs": [
    {
     "name": "stdout",
     "output_type": "stream",
     "text": [
      "The coefficient for U Level is 0.06107954545454544\n",
      "The coefficient for Total D Electrons is -0.12792988954516638\n",
      "The coefficient for D Spin State is 2.6960806887576334\n",
      "The coefficient for Molecule_F16MPc is -0.21287878787878783\n",
      "The coefficient for Molecule_MPc is 0.21287878787878786\n",
      "The coefficient for Calc Type_metal is -0.28257575757575765\n",
      "The coefficient for Calc Type_total is 0.28257575757575765\n"
     ]
    }
   ],
   "source": [
    "for idx, col_name in enumerate(Input.columns):\n",
    "    print(\"The coefficient for {} is {}\".format(col_name, final_model.coef_[0][idx]))"
   ]
  },
  {
   "cell_type": "code",
   "execution_count": 7,
   "metadata": {
    "collapsed": true
   },
   "outputs": [],
   "source": [
    "final_model_output = linreg.predict(Input)"
   ]
  },
  {
   "cell_type": "code",
   "execution_count": 62,
   "metadata": {},
   "outputs": [
    {
     "data": {
      "text/html": [
       "<table class=\"simpletable\">\n",
       "<caption>OLS Regression Results</caption>\n",
       "<tr>\n",
       "  <th>Dep. Variable:</th>     <td>Magnetic Moment</td> <th>  R-squared:         </th> <td>   0.652</td>\n",
       "</tr>\n",
       "<tr>\n",
       "  <th>Model:</th>                   <td>OLS</td>       <th>  Adj. R-squared:    </th> <td>   0.639</td>\n",
       "</tr>\n",
       "<tr>\n",
       "  <th>Method:</th>             <td>Least Squares</td>  <th>  F-statistic:       </th> <td>   47.29</td>\n",
       "</tr>\n",
       "<tr>\n",
       "  <th>Date:</th>             <td>Mon, 05 Mar 2018</td> <th>  Prob (F-statistic):</th> <td>2.55e-27</td>\n",
       "</tr>\n",
       "<tr>\n",
       "  <th>Time:</th>                 <td>12:49:03</td>     <th>  Log-Likelihood:    </th> <td> -190.96</td>\n",
       "</tr>\n",
       "<tr>\n",
       "  <th>No. Observations:</th>      <td>   132</td>      <th>  AIC:               </th> <td>   393.9</td>\n",
       "</tr>\n",
       "<tr>\n",
       "  <th>Df Residuals:</th>          <td>   126</td>      <th>  BIC:               </th> <td>   411.2</td>\n",
       "</tr>\n",
       "<tr>\n",
       "  <th>Df Model:</th>              <td>     5</td>      <th>                     </th>     <td> </td>   \n",
       "</tr>\n",
       "<tr>\n",
       "  <th>Covariance Type:</th>      <td>nonrobust</td>    <th>                     </th>     <td> </td>   \n",
       "</tr>\n",
       "</table>\n",
       "<table class=\"simpletable\">\n",
       "<tr>\n",
       "          <td></td>             <th>coef</th>     <th>std err</th>      <th>t</th>      <th>P>|t|</th>  <th>[0.025</th>    <th>0.975]</th>  \n",
       "</tr>\n",
       "<tr>\n",
       "  <th>U Level</th>           <td>    0.0611</td> <td>    0.028</td> <td>    2.178</td> <td> 0.031</td> <td>    0.006</td> <td>    0.117</td>\n",
       "</tr>\n",
       "<tr>\n",
       "  <th>Total D Electrons</th> <td>   -0.1279</td> <td>    0.032</td> <td>   -4.013</td> <td> 0.000</td> <td>   -0.191</td> <td>   -0.065</td>\n",
       "</tr>\n",
       "<tr>\n",
       "  <th>D Spin State</th>      <td>    2.6961</td> <td>    0.192</td> <td>   14.025</td> <td> 0.000</td> <td>    2.316</td> <td>    3.077</td>\n",
       "</tr>\n",
       "<tr>\n",
       "  <th>Molecule_F16MPc</th>   <td>    0.4716</td> <td>    0.158</td> <td>    2.976</td> <td> 0.004</td> <td>    0.158</td> <td>    0.785</td>\n",
       "</tr>\n",
       "<tr>\n",
       "  <th>Molecule_MPc</th>      <td>    0.8973</td> <td>    0.158</td> <td>    5.662</td> <td> 0.000</td> <td>    0.584</td> <td>    1.211</td>\n",
       "</tr>\n",
       "<tr>\n",
       "  <th>Calc Type_metal</th>   <td>    0.4019</td> <td>    0.158</td> <td>    2.536</td> <td> 0.012</td> <td>    0.088</td> <td>    0.715</td>\n",
       "</tr>\n",
       "<tr>\n",
       "  <th>Calc Type_total</th>   <td>    0.9670</td> <td>    0.158</td> <td>    6.102</td> <td> 0.000</td> <td>    0.653</td> <td>    1.281</td>\n",
       "</tr>\n",
       "</table>\n",
       "<table class=\"simpletable\">\n",
       "<tr>\n",
       "  <th>Omnibus:</th>       <td>14.409</td> <th>  Durbin-Watson:     </th> <td>   0.871</td>\n",
       "</tr>\n",
       "<tr>\n",
       "  <th>Prob(Omnibus):</th> <td> 0.001</td> <th>  Jarque-Bera (JB):  </th> <td>   6.264</td>\n",
       "</tr>\n",
       "<tr>\n",
       "  <th>Skew:</th>          <td> 0.295</td> <th>  Prob(JB):          </th> <td>  0.0436</td>\n",
       "</tr>\n",
       "<tr>\n",
       "  <th>Kurtosis:</th>      <td> 2.111</td> <th>  Cond. No.          </th> <td>4.90e+16</td>\n",
       "</tr>\n",
       "</table>"
      ],
      "text/plain": [
       "<class 'statsmodels.iolib.summary.Summary'>\n",
       "\"\"\"\n",
       "                            OLS Regression Results                            \n",
       "==============================================================================\n",
       "Dep. Variable:        Magnetic Moment   R-squared:                       0.652\n",
       "Model:                            OLS   Adj. R-squared:                  0.639\n",
       "Method:                 Least Squares   F-statistic:                     47.29\n",
       "Date:                Mon, 05 Mar 2018   Prob (F-statistic):           2.55e-27\n",
       "Time:                        12:49:03   Log-Likelihood:                -190.96\n",
       "No. Observations:                 132   AIC:                             393.9\n",
       "Df Residuals:                     126   BIC:                             411.2\n",
       "Df Model:                           5                                         \n",
       "Covariance Type:            nonrobust                                         \n",
       "=====================================================================================\n",
       "                        coef    std err          t      P>|t|      [0.025      0.975]\n",
       "-------------------------------------------------------------------------------------\n",
       "U Level               0.0611      0.028      2.178      0.031       0.006       0.117\n",
       "Total D Electrons    -0.1279      0.032     -4.013      0.000      -0.191      -0.065\n",
       "D Spin State          2.6961      0.192     14.025      0.000       2.316       3.077\n",
       "Molecule_F16MPc       0.4716      0.158      2.976      0.004       0.158       0.785\n",
       "Molecule_MPc          0.8973      0.158      5.662      0.000       0.584       1.211\n",
       "Calc Type_metal       0.4019      0.158      2.536      0.012       0.088       0.715\n",
       "Calc Type_total       0.9670      0.158      6.102      0.000       0.653       1.281\n",
       "==============================================================================\n",
       "Omnibus:                       14.409   Durbin-Watson:                   0.871\n",
       "Prob(Omnibus):                  0.001   Jarque-Bera (JB):                6.264\n",
       "Skew:                           0.295   Prob(JB):                       0.0436\n",
       "Kurtosis:                       2.111   Cond. No.                     4.90e+16\n",
       "==============================================================================\n",
       "\n",
       "Warnings:\n",
       "[1] Standard Errors assume that the covariance matrix of the errors is correctly specified.\n",
       "[2] The smallest eigenvalue is 3.36e-30. This might indicate that there are\n",
       "strong multicollinearity problems or that the design matrix is singular.\n",
       "\"\"\""
      ]
     },
     "execution_count": 62,
     "metadata": {},
     "output_type": "execute_result"
    }
   ],
   "source": [
    "import statsmodels.api as sm\n",
    "sm_model = sm.OLS(Output, Input).fit()\n",
    "sm_model.summary()"
   ]
  },
  {
   "cell_type": "code",
   "execution_count": 26,
   "metadata": {},
   "outputs": [
    {
     "data": {
      "text/plain": [
       "0.65235457622778847"
      ]
     },
     "execution_count": 26,
     "metadata": {},
     "output_type": "execute_result"
    }
   ],
   "source": [
    "metrics.r2_score(Output, final_model_output)"
   ]
  },
  {
   "cell_type": "code",
   "execution_count": 25,
   "metadata": {
    "scrolled": true
   },
   "outputs": [
    {
     "data": {
      "text/plain": [
       "Text(0,0.5,'Measured Magnetic Moment')"
      ]
     },
     "execution_count": 25,
     "metadata": {},
     "output_type": "execute_result"
    },
    {
     "data": {
      "image/png": "[encoded data removed]",
      "text/plain": [
       "<matplotlib.figure.Figure at 0xd68e8d0>"
      ]
     },
     "metadata": {},
     "output_type": "display_data"
    }
   ],
   "source": [
    "fig, ax = plt.subplots()\n",
    "plt.scatter(final_model_output, Output.as_matrix())\n",
    "ax.plot([Output.min(), Output.max()], [Output.min(), Output.max()], 'k--', lw=4)\n",
    "\n",
    "plt.title('Measured vs. Predicted Magnetic Moment of Multiple Linear Regression Model')\n",
    "ax.set_xlabel('Predicted Magnetic Moment')\n",
    "ax.set_ylabel('Measured Magnetic Moment')"
   ]
  },
  {
   "cell_type": "code",
   "execution_count": 45,
   "metadata": {
    "collapsed": true
   },
   "outputs": [],
   "source": [
    "residual = Output.as_matrix() - final_model_output"
   ]
  },
  {
   "cell_type": "code",
   "execution_count": 47,
   "metadata": {
    "scrolled": true
   },
   "outputs": [
    {
     "data": {
      "text/plain": [
       "Text(0,0.5,'Residual Error')"
      ]
     },
     "execution_count": 47,
     "metadata": {},
     "output_type": "execute_result"
    },
    {
     "data": {
      "image/png": "[encoded data removed]",
      "text/plain": [
       "<matplotlib.figure.Figure at 0xf8b36a0>"
      ]
     },
     "metadata": {},
     "output_type": "display_data"
    }
   ],
   "source": [
    "fig, ax = plt.subplots()\n",
    "plt.scatter(final_model_output, residual)\n",
    "ax.plot([0, 6],[0, 0], 'k--', lw=4)\n",
    "\n",
    "plt.title('Residual Error of Magnetic Moment of Multiple Linear Regression Model')\n",
    "ax.set_xlabel('Predicted Magnetic Moment')\n",
    "ax.set_ylabel('Residual Error')"
   ]
  },
  {
   "cell_type": "code",
   "execution_count": 11,
   "metadata": {},
   "outputs": [
    {
     "data": {
      "text/plain": [
       "numpy.ndarray"
      ]
     },
     "execution_count": 11,
     "metadata": {},
     "output_type": "execute_result"
    }
   ],
   "source": [
    "type(final_model_output)"
   ]
  },
  {
   "cell_type": "code",
   "execution_count": 19,
   "metadata": {},
   "outputs": [
    {
     "data": {
      "text/plain": [
       "numpy.ndarray"
      ]
     },
     "execution_count": 19,
     "metadata": {},
     "output_type": "execute_result"
    }
   ],
   "source": [
    "type(Output.as_matrix())"
   ]
  },
  {
   "cell_type": "code",
   "execution_count": null,
   "metadata": {
    "collapsed": true
   },
   "outputs": [],
   "source": []
  }
 ],
 "metadata": {
  "kernelspec": {
   "display_name": "Python 3",
   "language": "python",
   "name": "python3"
  },
  "language_info": {
   "codemirror_mode": {
    "name": "ipython",
    "version": 3
   },
   "file_extension": ".py",
   "mimetype": "text/x-python",
   "name": "python",
   "nbconvert_exporter": "python",
   "pygments_lexer": "ipython3",
   "version": "3.6.3"
  }
 },
 "nbformat": 4,
 "nbformat_minor": 2
}
