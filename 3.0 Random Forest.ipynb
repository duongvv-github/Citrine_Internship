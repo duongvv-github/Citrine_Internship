{
 "cells": [
  {
   "cell_type": "code",
   "execution_count": 2,
   "metadata": {
    "collapsed": true
   },
   "outputs": [],
   "source": [
    "import pandas as pd\n",
    "import numpy as np\n",
    "import matplotlib.pyplot as plt\n",
    "%matplotlib inline\n",
    "\n",
    "from sklearn.model_selection import train_test_split\n",
    "from sklearn.ensemble import RandomForestRegressor\n",
    "from sklearn import model_selection\n",
    "from sklearn import metrics\n",
    "from sklearn.preprocessing import StandardScaler\n",
    "\n",
    "from sklearn.metrics import r2_score\n",
    "from scipy.stats import spearmanr, pearsonr\n",
    "\n",
    "\n",
    "%store -r magnetic_data_ohe"
   ]
  },
  {
   "cell_type": "code",
   "execution_count": 3,
   "metadata": {
    "collapsed": true
   },
   "outputs": [],
   "source": [
    "estimators = magnetic_data_ohe.loc[:, magnetic_data_ohe.columns != 'Magnetic Moment']\n",
    "predictors = magnetic_data_ohe.loc[:, magnetic_data_ohe.columns == 'Magnetic Moment']"
   ]
  },
  {
   "cell_type": "code",
   "execution_count": 4,
   "metadata": {
    "collapsed": true
   },
   "outputs": [],
   "source": [
    "X_train, X_test, y_train, y_test = train_test_split(estimators, predictors, test_size=0.25, random_state=123456)\n",
    "y_train = y_train.as_matrix(); y_test = y_test.as_matrix();\n",
    "X_train = X_train.as_matrix(); X_test = X_test.as_matrix();"
   ]
  },
  {
   "cell_type": "code",
   "execution_count": 5,
   "metadata": {},
   "outputs": [
    {
     "data": {
      "text/plain": [
       "(99, 7)"
      ]
     },
     "execution_count": 5,
     "metadata": {},
     "output_type": "execute_result"
    }
   ],
   "source": [
    "X_train.shape"
   ]
  },
  {
   "cell_type": "code",
   "execution_count": 6,
   "metadata": {},
   "outputs": [
    {
     "data": {
      "text/plain": [
       "(33, 7)"
      ]
     },
     "execution_count": 6,
     "metadata": {},
     "output_type": "execute_result"
    }
   ],
   "source": [
    "X_test.shape"
   ]
  },
  {
   "cell_type": "code",
   "execution_count": null,
   "metadata": {
    "collapsed": true,
    "scrolled": true
   },
   "outputs": [],
   "source": [
    "#scaler = StandardScaler().fit(X_train)\n",
    "\n",
    "#X_train_scaled = pd.DataFrame(scaler.transform(X_train), index=X_train.index.values, columns=X_train.columns.values)\n",
    "#X_test_scaled = pd.DataFrame(scaler.transform(X_test), index=X_test.index.values, columns=X_test.columns.values)"
   ]
  },
  {
   "cell_type": "code",
   "execution_count": 4,
   "metadata": {
    "collapsed": true
   },
   "outputs": [],
   "source": [
    "from sklearn.model_selection import LeaveOneOut\n",
    "from sklearn.model_selection import GridSearchCV\n",
    "\n",
    "loocv = LeaveOneOut()"
   ]
  },
  {
   "cell_type": "code",
   "execution_count": 5,
   "metadata": {
    "scrolled": false
   },
   "outputs": [
    {
     "name": "stdout",
     "output_type": "stream",
     "text": [
      "-0.566976430976\n",
      "{'bootstrap': False, 'max_depth': None, 'max_features': 4, 'min_samples_leaf': 1, 'min_samples_split': 2, 'n_estimators': 150}\n"
     ]
    }
   ],
   "source": [
    "param_grid = {\"n_estimators\": [50, 100, 150],\n",
    "    \"max_depth\": [3, None],\n",
    "    \"max_features\": [1,2,3,4],\n",
    "    \"min_samples_split\": [2, 4, 6, 8],\n",
    "    \"min_samples_leaf\": [1, 3, 5, 10],\n",
    "    \"bootstrap\": [True, False]}\n",
    "\n",
    "model = RandomForestRegressor(random_state=123456) # oob_score = True doesn't work with GridSearchCV\n",
    "grid = GridSearchCV(estimator = model, param_grid = param_grid, n_jobs=-1, scoring = 'neg_mean_absolute_error')\n",
    "grid.fit(X_train, y_train.ravel())\n",
    "\n",
    "print(grid.best_score_)\n",
    "print(grid.best_params_)"
   ]
  },
  {
   "cell_type": "code",
   "execution_count": 6,
   "metadata": {
    "collapsed": true
   },
   "outputs": [],
   "source": [
    "rf_default = RandomForestRegressor(oob_score=True, random_state=123456)\n",
    "results_default = rf_default.fit(X_train, y_train.ravel())"
   ]
  },
  {
   "cell_type": "code",
   "execution_count": 7,
   "metadata": {
    "collapsed": true
   },
   "outputs": [],
   "source": [
    "rf_optimized = RandomForestRegressor(n_estimators=150,bootstrap=True, max_depth=None, max_features= 4, min_samples_leaf = 1, min_samples_split = 2,oob_score=True, random_state=123456)\n",
    "results_optimized = rf_optimized.fit(X_train, y_train.ravel())"
   ]
  },
  {
   "cell_type": "code",
   "execution_count": 8,
   "metadata": {},
   "outputs": [
    {
     "data": {
      "text/plain": [
       "0.92095940341262916"
      ]
     },
     "execution_count": 8,
     "metadata": {},
     "output_type": "execute_result"
    }
   ],
   "source": [
    "rf_default.score(X_test, y_test)"
   ]
  },
  {
   "cell_type": "code",
   "execution_count": 1,
   "metadata": {
    "scrolled": true
   },
   "outputs": [
    {
     "ename": "NameError",
     "evalue": "name 'RandomForestRegressor' is not defined",
     "output_type": "error",
     "traceback": [
      "\u001b[1;31m---------------------------------------------------------------------------\u001b[0m",
      "\u001b[1;31mNameError\u001b[0m                                 Traceback (most recent call last)",
      "\u001b[1;32m<ipython-input-1-f2fff0a49dcc>\u001b[0m in \u001b[0;36m<module>\u001b[1;34m()\u001b[0m\n\u001b[1;32m----> 1\u001b[1;33m \u001b[0mrf_oobT\u001b[0m \u001b[1;33m=\u001b[0m \u001b[0mRandomForestRegressor\u001b[0m\u001b[1;33m(\u001b[0m\u001b[0moob_score\u001b[0m\u001b[1;33m=\u001b[0m\u001b[1;32mTrue\u001b[0m\u001b[1;33m,\u001b[0m \u001b[0mrandom_state\u001b[0m\u001b[1;33m=\u001b[0m\u001b[1;36m24601\u001b[0m\u001b[1;33m)\u001b[0m\u001b[1;33m\u001b[0m\u001b[0m\n\u001b[0m\u001b[0;32m      2\u001b[0m \u001b[0mrf_oobF\u001b[0m \u001b[1;33m=\u001b[0m \u001b[0mRandomForestRegressor\u001b[0m\u001b[1;33m(\u001b[0m\u001b[0moob_score\u001b[0m\u001b[1;33m=\u001b[0m\u001b[1;32mFalse\u001b[0m\u001b[1;33m,\u001b[0m \u001b[0mrandom_state\u001b[0m\u001b[1;33m=\u001b[0m\u001b[1;36m24601\u001b[0m\u001b[1;33m)\u001b[0m\u001b[1;33m\u001b[0m\u001b[0m\n\u001b[0;32m      3\u001b[0m \u001b[1;33m\u001b[0m\u001b[0m\n\u001b[0;32m      4\u001b[0m \u001b[0mresults_True\u001b[0m \u001b[1;33m=\u001b[0m \u001b[0mrf_oobT\u001b[0m\u001b[1;33m.\u001b[0m\u001b[0mfit\u001b[0m\u001b[1;33m(\u001b[0m\u001b[0mX_train\u001b[0m\u001b[1;33m,\u001b[0m \u001b[0my_train\u001b[0m\u001b[1;33m.\u001b[0m\u001b[0mravel\u001b[0m\u001b[1;33m(\u001b[0m\u001b[1;33m)\u001b[0m\u001b[1;33m)\u001b[0m\u001b[1;33m\u001b[0m\u001b[0m\n\u001b[0;32m      5\u001b[0m \u001b[0mresults_False\u001b[0m \u001b[1;33m=\u001b[0m \u001b[0mrf_oobF\u001b[0m\u001b[1;33m.\u001b[0m\u001b[0mfit\u001b[0m\u001b[1;33m(\u001b[0m\u001b[0mX_train\u001b[0m\u001b[1;33m,\u001b[0m \u001b[0my_train\u001b[0m\u001b[1;33m.\u001b[0m\u001b[0mravel\u001b[0m\u001b[1;33m(\u001b[0m\u001b[1;33m)\u001b[0m\u001b[1;33m)\u001b[0m\u001b[1;33m\u001b[0m\u001b[0m\n",
      "\u001b[1;31mNameError\u001b[0m: name 'RandomForestRegressor' is not defined"
     ]
    }
   ],
   "source": [
    "rf_oobT = RandomForestRegressor(oob_score=True, random_state=24601)\n",
    "rf_oobF = RandomForestRegressor(oob_score=False, random_state=24601)\n",
    "\n",
    "results_True = rf_oobT.fit(X_train, y_train.ravel())\n",
    "results_False = rf_oobF.fit(X_train, y_train.ravel())"
   ]
  },
  {
   "cell_type": "code",
   "execution_count": 9,
   "metadata": {
    "scrolled": false
   },
   "outputs": [
    {
     "data": {
      "text/plain": [
       "0.91167987669787054"
      ]
     },
     "execution_count": 9,
     "metadata": {},
     "output_type": "execute_result"
    }
   ],
   "source": [
    "rf_optimized.score(X_test, y_test)"
   ]
  },
  {
   "cell_type": "code",
   "execution_count": null,
   "metadata": {
    "collapsed": true
   },
   "outputs": [],
   "source": [
    "models = [0,1]\n",
    "models = [rf_default, rf_optimized]\n",
    "\n",
    "for list in models:\n",
    "    cv_predict_test[list] = model_selection.cross_val_predict(models[list], X_train, y_train.ravel(), cv = loocv)\n"
   ]
  },
  {
   "cell_type": "code",
   "execution_count": 10,
   "metadata": {
    "collapsed": true
   },
   "outputs": [],
   "source": [
    "# Use me!\n",
    "cv_predict = [0,1]\n",
    "cv_predict[0] = model_selection.cross_val_predict(rf_default, X_train, y_train.ravel(), cv = loocv)\n",
    "cv_predict[1] = model_selection.cross_val_predict(rf_optimized, X_train, y_train.ravel(), cv = loocv)"
   ]
  },
  {
   "cell_type": "code",
   "execution_count": 11,
   "metadata": {
    "collapsed": true
   },
   "outputs": [],
   "source": [
    "# Use me!\n",
    "cv_score = [0,1]\n",
    "cv_score[0] = model_selection.cross_val_score(rf_default, X_train, y_train.ravel(), cv = loocv, scoring = 'neg_mean_absolute_error')\n",
    "cv_score[1] = model_selection.cross_val_score(rf_optimized, X_train, y_train.ravel(), cv = loocv, scoring = 'neg_mean_absolute_error')"
   ]
  },
  {
   "cell_type": "code",
   "execution_count": 12,
   "metadata": {},
   "outputs": [
    {
     "data": {
      "text/plain": [
       "-0.43533838383838386"
      ]
     },
     "execution_count": 12,
     "metadata": {},
     "output_type": "execute_result"
    }
   ],
   "source": [
    "cv_score[0].mean()"
   ]
  },
  {
   "cell_type": "code",
   "execution_count": 13,
   "metadata": {},
   "outputs": [
    {
     "data": {
      "text/plain": [
       "-0.48124562556784822"
      ]
     },
     "execution_count": 13,
     "metadata": {},
     "output_type": "execute_result"
    }
   ],
   "source": [
    "cv_score[1].mean()"
   ]
  },
  {
   "cell_type": "code",
   "execution_count": 14,
   "metadata": {
    "scrolled": true
   },
   "outputs": [
    {
     "data": {
      "text/plain": [
       "0.25168472808897047"
      ]
     },
     "execution_count": 14,
     "metadata": {},
     "output_type": "execute_result"
    }
   ],
   "source": [
    "cv_score[0].var()"
   ]
  },
  {
   "cell_type": "code",
   "execution_count": 15,
   "metadata": {},
   "outputs": [
    {
     "data": {
      "text/plain": [
       "0.21425611739602995"
      ]
     },
     "execution_count": 15,
     "metadata": {},
     "output_type": "execute_result"
    }
   ],
   "source": [
    "cv_score[1].var()"
   ]
  },
  {
   "cell_type": "code",
   "execution_count": 16,
   "metadata": {},
   "outputs": [
    {
     "data": {
      "text/plain": [
       "array([ -1.72444444e-01,  -3.88000000e-01,  -2.71333333e-01,\n",
       "        -4.13333333e-02,  -6.64800000e-01,  -4.21666667e-01,\n",
       "        -3.06666667e-02,  -5.21500000e-01,  -6.46666667e-01,\n",
       "        -2.06666667e-01,  -6.79866667e-01,  -2.61333333e-01,\n",
       "        -1.53333333e-02,  -3.32666667e-01,  -1.31166667e-01,\n",
       "        -2.64666667e-01,  -4.13333333e-02,  -5.72000000e-01,\n",
       "        -4.97261905e-01,  -1.14716667e+00,  -4.18622222e-01,\n",
       "        -8.88166667e-01,  -6.45777778e-02,  -4.70185185e-02,\n",
       "        -4.07333333e-01,  -1.06783333e+00,  -2.91888889e-01,\n",
       "        -1.10666667e-01,  -3.51666667e-01,  -4.96666667e-01,\n",
       "        -8.35333333e-01,  -1.07290000e+00,  -2.59333333e-01,\n",
       "        -1.00000000e-01,  -7.34000000e-01,  -1.47400000e+00,\n",
       "        -1.51000000e-01,  -3.05333333e-01,  -8.02666667e-01,\n",
       "        -1.00666667e-01,  -2.93000000e-01,  -1.24328889e+00,\n",
       "        -5.17033333e-01,  -7.53333333e-02,  -2.65000000e-01,\n",
       "        -5.98333333e-01,  -8.73333333e-01,  -2.62666667e-01,\n",
       "        -2.71111111e-03,  -4.40000000e-02,  -3.77766667e-01,\n",
       "        -6.35111111e-01,  -3.34111111e-01,  -2.88166667e-01,\n",
       "        -7.45266667e-01,  -1.48488889e-01,  -5.48666667e-01,\n",
       "        -1.26222222e-01,  -1.48066667e+00,  -1.00655556e+00,\n",
       "        -8.40000000e-02,  -5.13933333e-01,  -1.95333333e-01,\n",
       "        -1.33511111e-01,  -3.79211111e-01,  -1.66666667e-01,\n",
       "        -1.78000000e-01,  -1.17244444e-01,  -4.58333333e-01,\n",
       "        -5.47000000e-01,  -3.32166667e-01,  -4.26666667e-02,\n",
       "        -4.13333333e-01,  -7.58666667e-01,  -4.43555556e-01,\n",
       "        -3.86000000e-01,  -2.56000000e-01,  -5.75333333e-01,\n",
       "        -9.22666667e-01,  -1.01133333e+00,  -3.17111111e-01,\n",
       "        -1.16255556e+00,  -7.20000000e-02,  -1.12666667e-01,\n",
       "        -7.79444444e-02,  -1.05066667e+00,  -6.38933333e-01,\n",
       "        -6.55514286e-01,  -4.72666667e-01,  -1.78570000e+00,\n",
       "        -3.19333333e-01,  -3.14400000e+00,  -3.90333333e-01,\n",
       "        -1.21000000e+00,  -8.67000000e-01,  -4.06666667e-02,\n",
       "        -1.66666667e-01,  -7.33333333e-03,  -8.40000000e-02])"
      ]
     },
     "execution_count": 16,
     "metadata": {},
     "output_type": "execute_result"
    }
   ],
   "source": [
    "cv_score[1]"
   ]
  },
  {
   "cell_type": "code",
   "execution_count": null,
   "metadata": {
    "collapsed": true
   },
   "outputs": [],
   "source": []
  },
  {
   "cell_type": "code",
   "execution_count": 28,
   "metadata": {
    "collapsed": true
   },
   "outputs": [],
   "source": [
    "output = [0,1]\n",
    "output[0] = rf_default.predict(estimators)\n",
    "output[1] = rf_optimized.predict(estimators)"
   ]
  },
  {
   "cell_type": "code",
   "execution_count": 29,
   "metadata": {},
   "outputs": [
    {
     "data": {
      "image/png": "[encoded data removed]",
      "text/plain": [
       "<matplotlib.figure.Figure at 0xc4eb8d0>"
      ]
     },
     "metadata": {},
     "output_type": "display_data"
    }
   ],
   "source": [
    "fig, ax = plt.subplots()\n",
    "plt.scatter(x=output[0], y=predictors.as_matrix())\n",
    "ax.plot([predictors.min(), predictors.max()], [predictors.min(), predictors.max()], 'k--', lw=4)\n",
    "\n",
    "plt.title('Measured vs. Predicted Magnetic Moment of Default Settings Random Forest Regression Model')\n",
    "ax.set_xlabel('Predicted Magnetic Moment')\n",
    "ax.set_ylabel('Measured Magnetic Moment')\n",
    "plt.show()\n"
   ]
  },
  {
   "cell_type": "code",
   "execution_count": 32,
   "metadata": {},
   "outputs": [
    {
     "data": {
      "image/png": "[encoded data removed]",
      "text/plain": [
       "<matplotlib.figure.Figure at 0xd3096d8>"
      ]
     },
     "metadata": {},
     "output_type": "display_data"
    }
   ],
   "source": [
    "fig, ax = plt.subplots()\n",
    "plt.scatter(x=output[1], y=predictors.as_matrix())\n",
    "ax.plot([predictors.min(), predictors.max()], [predictors.min(), predictors.max()], 'k--', lw=4)\n",
    "\n",
    "plt.title('Measured vs. Predicted Magnetic Moment of Optimized Random Forest Regression Model')\n",
    "ax.set_xlabel('Predicted Magnetic Moment')\n",
    "ax.set_ylabel('Measured Magnetic Moment')\n",
    "plt.show()\n"
   ]
  },
  {
   "cell_type": "code",
   "execution_count": null,
   "metadata": {
    "collapsed": true
   },
   "outputs": [],
   "source": [
    "residual = Output.as_matrix() - final_model_output\n",
    "\n",
    "fig, ax = plt.subplots()\n",
    "plt.scatter(final_model_output, residual)\n",
    "ax.plot([0, 6],[0, 0], 'k--', lw=4)\n",
    "\n",
    "plt.title('Residual Error of Magnetic Moment of Multiple Linear Regression Model')\n",
    "ax.set_xlabel('Predicted Magnetic Moment')\n",
    "ax.set_ylabel('Residual Error')"
   ]
  },
  {
   "cell_type": "code",
   "execution_count": null,
   "metadata": {
    "collapsed": true
   },
   "outputs": [],
   "source": []
  },
  {
   "cell_type": "markdown",
   "metadata": {},
   "source": [
    "predicted_train = rf.predict(X_train)\n",
    "predicted_test = rf.predict(X_test)\n",
    "\n",
    "test_score = r2_score(y_test, predicted_test)\n",
    "spearman = spearmanr(y_test, predicted_test)\n",
    "pearson = pearsonr(y_test, predicted_test)\n",
    "\n",
    "print(f'Out-of-bag R-2 score estimate: {rf.oob_score_:>5.3}')\n",
    "print(f'Test data R-2 score: {test_score:>5.3}')\n",
    "print(f'Test data Spearman correlation: {spearman[0]:.3}')\n",
    "print(f'Test data Pearson correlation: {pearson[0]:.3}')"
   ]
  },
  {
   "cell_type": "code",
   "execution_count": null,
   "metadata": {
    "collapsed": true
   },
   "outputs": [],
   "source": [
    "rf_final = RandomForestRegressor(n_estimators=100,bootstrap=True, max_depth=None, max_features= 4, min_samples_leaf = 1, min_samples_split = 2,oob_score=True, random_state=123456)\n",
    "\n",
    "results_final = rf_final.fit(Input, Output.as_matrix().ravel())\n",
    "output_final = rf_final.predict(Input)\n",
    "residual_final = Output.as_matrix() - output_final"
   ]
  },
  {
   "cell_type": "code",
   "execution_count": null,
   "metadata": {
    "collapsed": true
   },
   "outputs": [],
   "source": [
    "fig, ax = plt.subplots()\n",
    "plt.scatter(x=Output.as_matrix(), y=output_final)\n",
    "ax.plot([Output.min(), Output.max()], [Output.min(), Output.max()], 'k--', lw=4)\n",
    "\n",
    "plt.title('Measured vs. Predicted Magnetic Moment of Optimized Random Forest Regression Model')\n",
    "ax.set_xlabel('Predicted Magnetic Moment')\n",
    "ax.set_ylabel('Measured Magnetic Moment')\n",
    "plt.show()"
   ]
  },
  {
   "cell_type": "code",
   "execution_count": null,
   "metadata": {
    "collapsed": true
   },
   "outputs": [],
   "source": [
    "fig, ax = plt.subplots()\n",
    "plt.scatter(output_final, residual_final)\n",
    "ax.plot([0, 6],[0, 0], 'k--', lw=4)\n",
    "\n",
    "plt.title('Residual Error of Magnetic Moment of Multiple Linear Regression Model')\n",
    "ax.set_xlabel('Predicted Magnetic Moment')\n",
    "ax.set_ylabel('Residual Error')"
   ]
  },
  {
   "cell_type": "code",
   "execution_count": null,
   "metadata": {
    "collapsed": true
   },
   "outputs": [],
   "source": []
  }
 ],
 "metadata": {
  "kernelspec": {
   "display_name": "Python 3",
   "language": "python",
   "name": "python3"
  },
  "language_info": {
   "codemirror_mode": {
    "name": "ipython",
    "version": 3
   },
   "file_extension": ".py",
   "mimetype": "text/x-python",
   "name": "python",
   "nbconvert_exporter": "python",
   "pygments_lexer": "ipython3",
   "version": "3.6.3"
  }
 },
 "nbformat": 4,
 "nbformat_minor": 2
}
